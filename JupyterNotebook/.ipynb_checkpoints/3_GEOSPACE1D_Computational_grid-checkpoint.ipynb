{
 "cells": [
  {
   "cell_type": "markdown",
   "metadata": {},
   "source": [
    "# _**Create the grid for GEOSPACE coupled with shallow water**_\n",
    "    -Author: Concetta D'Amato, Niccolò Tubini and Riccardo Rigon\n",
    "    -License: this work is licensed under a Creative Commons Attribution-NonCommercial 4.0 International License\n",
    "-----\n",
    "This code allows to create a mesh for 1D PDE problem:\n",
    "    - domain discretization\n",
    "    - setting parameters\n",
    "    - setting initial condition\n",
    "    \n",
    "All output data are stored in a NetCDF file.\n",
    "This file is one of the input file of your simulation.\n"
   ]
  },
  {
   "cell_type": "code",
   "execution_count": 1,
   "metadata": {},
   "outputs": [],
   "source": [
    "%load_ext autoreload\n",
    "%autoreload 2\n",
    "\n",
    "import os\n",
    "import pandas as pd\n",
    "import matplotlib.style as style \n",
    "import numpy as np\n",
    "import matplotlib.pyplot as plt\n",
    "import matplotlib.dates as mdates\n",
    "from matplotlib import rc\n",
    "import matplotlib.style as style \n",
    "import xarray as xr\n",
    "import datetime\n",
    "\n",
    "from WHETGEO1D_GridCreator import*\n",
    "from WHETGEO1D_toNetCDF import*\n",
    "\n",
    "import warnings\n",
    "warnings.filterwarnings('ignore')\n",
    "####### Plot settings #######\n",
    "nice_fonts = {\n",
    "        \"legend.frameon\": True,\n",
    "        \"legend.fancybox\": True,\n",
    "        \"legend.facecolor\": \"white\",\n",
    "        \"axes.edgecolor\": \"0.8\",\n",
    "        \"axes.linewidth\": 0.6,\n",
    "        \"grid.linewidth\":0.3,\n",
    "        # Use LaTeX to write all text\n",
    "        \"text.usetex\": False,\n",
    "        \"font.family\": \"serif\",\n",
    "        # Use 10pt font in plots, to match 10pt font in document\n",
    "        \"axes.labelsize\": 16,\n",
    "        \"font.size\": 16,\n",
    "        # Make the legend/label fonts a little smaller\n",
    "        \"legend.fontsize\": 12,\n",
    "        \"xtick.labelsize\": 12,\n",
    "        \"ytick.labelsize\": 12,\n",
    "}\n",
    "plt.rcParams.update(nice_fonts)\n",
    "\n",
    "project_path = os.path.dirname(os.getcwd())"
   ]
  },
  {
   "cell_type": "markdown",
   "metadata": {},
   "source": [
    "\n",
    "## Define input:\n",
    "**grid_input_file_name**: name of the grid input file (.csv) with the local file path \n",
    "   \n",
    "> `/data/Grid_input/name.csv`\n",
    "\n",
    "**ic_input_file_name**: name of the initial condition input file (.csv) with the local file path \n",
    "> `/data/Grid_input/name.csv`\n",
    "\n",
    "**icRoot_input_file_name**: name of the  initial condition input file (.csv) with the local file path \n",
    "> `/data/Grid_input/name.csv`\n",
    "\n",
    "**parameter_input_file_name**: name of the parameter input file (.csv) with the local file path \n",
    ">`/data/Grid_input/name.csv`\n",
    "\n",
    "**dictionary_input_file_name**: name of the file (.csv) containing the dictionary for parameters name \n",
    ">`/data/Grid_input/name.csv`\n",
    "\n",
    "**grid_type**: string defining how to discretize the 1D domain. You can choose among:\n",
    "> `classical`\n",
    "\n",
    "> `exponential`\n",
    "\n",
    "> `mixed` \n",
    "\n",
    "\n",
    "**dz_min**: thickness of the first layer (for `exponential` and `mixed`)\n",
    "\n",
    "**dz_max**: larger thickness of the grid (for `mixed`)\n",
    "\n",
    "**b**: growth rate (for `exponential` and `mixed`)\n",
    "\n",
    "**psi_interp_model**: string defining the type of the 1D interpolation function used to define the initial condition for water suction \\[m\\]\n",
    "> https://docs.scipy.org/doc/scipy/reference/generated/scipy.interpolate.interp1d.html#scipy.interpolate.interp1d \n",
    "\n",
    "**T_interp_model**: string defining the type of the 1D interpolation function used to define the initial condition for temperature \\[K\\]\n",
    ">https://docs.scipy.org/doc/scipy/reference/generated/scipy.interpolate.interp1d.html#scipy.interpolate.interp1d \n",
    "\n",
    "**root_interp_model**: string defining the type of the 1D interpolation function used to define the initial condition for root density \\\\\n",
    "> https://docs.scipy.org/doc/scipy/reference/generated/scipy.interpolate.interp1d.html#scipy.interpolate.interp1d\n",
    "\n",
    "**water_ponding_0**: surface water ponding \\[m\\] at time $t=0$\n",
    "\n",
    "**T_water_ponding_0**: temperature \\[K\\] of surface water ponding at time $t=0$\n",
    "\n",
    "**etaR**: root depth  \n",
    "\n",
    "<br />\n",
    "\n",
    "\n",
    "**output_file_name**: name of the output file (.nc) with the local file path\n",
    ">`/data/Grid_NetCDF/name.nc`\n",
    "\n",
    "**output_title**: string containing a title for the output, it is saved within the file\n",
    "\n",
    "**output_summary**: string containing a description for the output, it is saved within the file (global metadata)\n",
    "\n",
    "**output_date**: string containing the date of file creation, optionally\n",
    "\n",
    "**output_institution**: string containing the name of whom created the file, optionally\n",
    "\n"
   ]
  },
  {
   "cell_type": "code",
   "execution_count": 4,
   "metadata": {},
   "outputs": [],
   "source": [
    "grid_input_file_name = project_path + \"/data/Grid_input/_grid_geospace.csv\"\n",
    "\n",
    "ic_input_file_name = project_path + \"/data/Grid_input/_ic.csv\"\n",
    "\n",
    "icRoot_input_file_name = project_path + \"/data/Grid_input/_icRoot_1.csv\"\n",
    "\n",
    "parameter_input_file_name = project_path + \"/data/Grid_input/RichardsLysimeterSpikeII_VG.csv\"\n",
    "\n",
    "dictionary_input_file_name = project_path + \"/data/Grid_input/dictionary.csv\"\n",
    "\n",
    "\n",
    "grid_type =   'classical' #'classical' 'exponential' 'mixed'\n",
    "\n",
    "dz_min = 0.005\n",
    "dz_max = 0.1\n",
    "b = 0.1\n",
    "\n",
    "psi_interp_model = \"linear\"\n",
    "T_interp_model = \"linear\"\n",
    "root_interp_model = \"linear\"\n",
    "\n",
    "etaR = -0.5\n",
    "\n",
    "water_ponding_0 = -1.0\n",
    "T_water_ponding_0 = 293.15\n",
    "\n",
    "\n",
    "output_file_name =   project_path + \"/data/Grid_NetCDF/Grid_GEOSPACE_1406.nc\"\n",
    "output_title = '''     '''\n",
    "output_summary = ''' Grid for SikeII simulation with GEOSPACE   '''\n",
    "\n",
    "output_date = ''\n",
    "output_institution = ''"
   ]
  },
  {
   "cell_type": "markdown",
   "metadata": {},
   "source": [
    "## Run"
   ]
  },
  {
   "cell_type": "code",
   "execution_count": 5,
   "metadata": {},
   "outputs": [
    {
     "name": "stdout",
     "output_type": "stream",
     "text": [
      "  Type  eta    K  equationStateID  parameterID\n",
      "0    L  0.0  5.0              1.0          1.0\n",
      "1    L -1.0  NaN              NaN          NaN\n",
      "   eta  Psi0      T0\n",
      "0 -0.0  -1.0  293.15\n",
      "1 -1.0   0.0  293.15\n",
      "   eta  Root0\n",
      "0 -0.0      1\n",
      "1 -0.5      1\n",
      "\n",
      "     thetaS   thetaR  thetaWP  thetaFC        n   alpha  alphaSpecificStorage  \\\n",
      "0   0.36689  0.05385  0.08385  0.33689  2.54723   2.991          0.000000e+00   \n",
      "1   0.48664  0.13335  0.16335  0.45664  1.34174   0.846          0.000000e+00   \n",
      "2   0.46000  0.07000  0.97000  0.43200  1.65000   0.440          0.000000e+00   \n",
      "3   0.30000  0.00100  0.03700  0.27000  1.31000   6.000          1.000000e-07   \n",
      "4   0.30000  0.00100  0.03700  0.20000  1.31000   6.000          1.000000e-07   \n",
      "5   0.30000  0.05000  0.08030  0.27000  1.31000   6.000          1.000000e-07   \n",
      "6   0.30000  0.05000  0.08030  0.27000  1.31000   6.000          1.000000e-07   \n",
      "7   0.30000  0.05000  0.08030  0.27000  1.31000   6.000          1.000000e-07   \n",
      "8   0.30000  0.05000  0.08030  0.27000  1.31000   6.000          1.000000e-07   \n",
      "9   0.30000  0.05000  0.08030  0.27000  1.31000   6.000          1.000000e-07   \n",
      "10  0.30000  0.05000  0.08030  0.27000  1.31000   3.000          1.000000e-08   \n",
      "11  0.30000  0.05000  0.08030  0.27000  1.31000   1.500          1.000000e-08   \n",
      "12  0.30000  0.05000  0.08030  0.27000  1.34000   0.200          1.000000e-08   \n",
      "13  0.30000  0.05000  0.08030  0.27000  1.34000   0.200          1.000000e-08   \n",
      "14  0.30000  0.05000  0.08030  0.27000  1.34000   0.200          1.000000e-08   \n",
      "15  0.30000  0.05000  0.08030  0.22000  1.31000   6.000          1.000000e-07   \n",
      "16  0.30000  0.05000  0.08030  0.22000  1.31000   6.000          1.000000e-07   \n",
      "17  0.30000  0.05000  0.08030  0.23500  1.31000   6.000          1.000000e-07   \n",
      "18  0.39000  0.02500  0.01500  0.27000  1.38000  38.300          1.000000e-09   \n",
      "\n",
      "    betaSpecificStorage            Ks  \n",
      "0          0.000000e+00  5.405830e-05  \n",
      "1          0.000000e+00  9.732840e-07  \n",
      "2          0.000000e+00  5.173635e-06  \n",
      "3          4.400000e-10  3.472222e-05  \n",
      "4          4.400000e-10  3.472222e-07  \n",
      "5          4.400000e-10  3.472222e-05  \n",
      "6          4.400000e-10  3.472222e-08  \n",
      "7          4.400000e-10  3.472222e-07  \n",
      "8          4.400000e-10  3.472222e-06  \n",
      "9          4.400000e-10  3.472222e-04  \n",
      "10         4.400000e-10  5.353395e-08  \n",
      "11         4.400000e-10  3.353395e-08  \n",
      "12         4.400000e-10  5.353395e-08  \n",
      "13         4.400000e-10  3.899947e-08  \n",
      "14         4.400000e-10  8.899947e-08  \n",
      "15         4.400000e-10  3.472222e-05  \n",
      "16         4.400000e-10  3.472222e-07  \n",
      "17         4.400000e-10  3.472222e-05  \n",
      "18         4.400000e-10  1.432450e-03  \n",
      "\n",
      "\n",
      "***SUCCESS writing!  /Users/concettadamato/GSS22/OMS_Project_GEOSPACE1D_GSS22/data/Grid_NetCDF/Grid_GEOSPACE_1406.nc\n"
     ]
    }
   ],
   "source": [
    "data_grid = pd.read_csv(grid_input_file_name)\n",
    "print(data_grid)\n",
    "\n",
    "data_ic = pd.read_csv(ic_input_file_name)\n",
    "print(data_ic)\n",
    "\n",
    "data_icRoot = pd.read_csv(icRoot_input_file_name)\n",
    "print(data_icRoot)\n",
    "\n",
    "data_parameter = pd.read_csv(parameter_input_file_name, comment='#')\n",
    "print()\n",
    "print(data_parameter)\n",
    "\n",
    "data_dictionary = pd.read_csv(dictionary_input_file_name)\n",
    "\n",
    "[KMAX, eta, eta_dual, space_delta, z, z_dual, control_volume]=grid1D(data_grid, dz_min, b, dz_max, grid_type, shallow_water=True)\n",
    "\n",
    "[psi_0, T_0, root_0] = set_initial_condition_geospace(data_ic, data_icRoot, eta, psi_interp_model, T_interp_model, root_interp_model, etaR, water_ponding_0=water_ponding_0, T_water_ponding_0=T_water_ponding_0, shallow_water=True, fill_value=\"extrapolate\")\n",
    "\n",
    "control_volume_index = calibration_point_index(data_grid, eta)\n",
    "\n",
    "[equation_state_ID, parameter_ID, theta_s, theta_r, theta_wp, theta_fc, par_1, par_2, par_3, par_4,\n",
    "par_5, alpha_ss, beta_ss, ks] = set_parameters_geospace(data_grid, data_parameter, data_dictionary, KMAX, eta)\n",
    "\n",
    "write_grid_netCDF_geospace(eta, eta_dual, z, z_dual, space_delta, control_volume, control_volume_index, psi_0, T_0, root_0, equation_state_ID, parameter_ID, KMAX,\n",
    "                  theta_s, theta_r, theta_wp, theta_fc, par_1, par_2, par_3, par_4, par_5, alpha_ss, beta_ss, ks,\n",
    "                  output_file_name, output_title, output_institution, output_summary, output_date, grid_input_file_name, parameter_input_file_name)"
   ]
  },
  {
   "cell_type": "code",
   "execution_count": 6,
   "metadata": {},
   "outputs": [],
   "source": [
    "#help(set_parameters_richards_lysimeter)"
   ]
  },
  {
   "cell_type": "markdown",
   "metadata": {},
   "source": [
    "## Show Root geometry"
   ]
  },
  {
   "cell_type": "code",
   "execution_count": 7,
   "metadata": {},
   "outputs": [
    {
     "data": {
      "image/png": "[encoded data removed]",
      "text/plain": [
       "<Figure size 576x577.778 with 1 Axes>"
      ]
     },
     "metadata": {
      "needs_background": "light"
     },
     "output_type": "display_data"
    }
   ],
   "source": [
    "fig = plt.figure(figsize=(8,13/1.62))\n",
    "plt.plot(data_icRoot.Root0,data_icRoot.eta, '.',label = 'Root data',markersize=20)\n",
    "plt.plot(root_0, eta, '.-', label='Root interpolation',linewidth=1.8)\n",
    "plt.xlabel('Root density Initial Condition')\n",
    "plt.title('Initial condition of Root density in the soil column')\n",
    "plt.legend(bbox_to_anchor=(1.5,0.8))\n",
    "plt.grid(color='grey', linestyle='-', linewidth=0.3)"
   ]
  },
  {
   "cell_type": "markdown",
   "metadata": {},
   "source": [
    "## Show Grid geometry"
   ]
  },
  {
   "cell_type": "code",
   "execution_count": 8,
   "metadata": {},
   "outputs": [
    {
     "data": {
      "image/png": "[encoded data removed]",
      "text/plain": [
       "<Figure size 720x709.091 with 1 Axes>"
      ]
     },
     "metadata": {
      "needs_background": "light"
     },
     "output_type": "display_data"
    }
   ],
   "source": [
    "showMesh(data_grid)"
   ]
  },
  {
   "cell_type": "code",
   "execution_count": null,
   "metadata": {},
   "outputs": [],
   "source": []
  },
  {
   "cell_type": "code",
   "execution_count": null,
   "metadata": {},
   "outputs": [],
   "source": []
  },
  {
   "cell_type": "code",
   "execution_count": null,
   "metadata": {
    "tags": []
   },
   "outputs": [],
   "source": [
    "def theta(ts,tr,psi,n,alpha):\n",
    "    m=1-(1/n)\n",
    "    tsc=(ts-tr)*((tr/(ts-tr))+(1+abs(alpha*psi)**n)**(-m))\n",
    "    return tsc"
   ]
  },
  {
   "cell_type": "code",
   "execution_count": null,
   "metadata": {},
   "outputs": [],
   "source": [
    "n=2.54723\n",
    "m=1-(1/n)\n",
    "m"
   ]
  },
  {
   "cell_type": "code",
   "execution_count": null,
   "metadata": {},
   "outputs": [],
   "source": [
    "theta(0.48664,0.13335,-1600,1.34174,0.846)"
   ]
  },
  {
   "cell_type": "code",
   "execution_count": null,
   "metadata": {},
   "outputs": [],
   "source": []
  }
 ],
 "metadata": {
  "kernelspec": {
   "display_name": "Python 3 (ipykernel)",
   "language": "python",
   "name": "python3"
  },
  "language_info": {
   "codemirror_mode": {
    "name": "ipython",
    "version": 3
   },
   "file_extension": ".py",
   "mimetype": "text/x-python",
   "name": "python",
   "nbconvert_exporter": "python",
   "pygments_lexer": "ipython3",
   "version": "3.7.12"
  }
 },
 "nbformat": 4,
 "nbformat_minor": 4
}
