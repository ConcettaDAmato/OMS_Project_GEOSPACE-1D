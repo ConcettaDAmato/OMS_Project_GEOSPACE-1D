{
 "cells": [
  {
   "cell_type": "code",
   "execution_count": 3,
   "id": "09b88406-046b-4063-b015-865f17b4e7fe",
   "metadata": {},
   "outputs": [
    {
     "name": "stdout",
     "output_type": "stream",
     "text": [
      "events_chronology.csv caricato con successo.\n",
      "fineroots_spike.II.csv caricato con successo.\n",
      "spike.hydrometric.II.csv caricato con successo.\n",
      "spike.isotope.II.csv caricato con successo.\n",
      "\n",
      "Prime righe di events_chronology.csv:\n",
      "              start               end                            description  \\\n",
      "0  2018-04-25 19:30  2018-04-25 22:15                 Irrigation (tap water)   \n",
      "1  2018-05-02 19:00  2018-05-02 20:15                 Irrigation (tap water)   \n",
      "2  2018-05-03 18:30  2018-05-03 21:00                 Irrigation (tap water)   \n",
      "3  2018-05-05 19:45  2018-05-05 23:00                 Irrigation (tap water)   \n",
      "4   2018-05-07 7:00  2018-05-08 19:00  Sap flow and dendrometers instalation   \n",
      "\n",
      "   irrigation.volume sampled.water  \n",
      "0               26.1             x  \n",
      "1                7.1             x  \n",
      "2                8.4           NaN  \n",
      "3               38.3           NaN  \n",
      "4                NaN           NaN  \n",
      "\n",
      "Prime righe di fineroots_spike.II.csv:\n",
      "          ID Core  Depth        SRL      RTD         RLD\n",
      "0     A-0-25    A     25  98.657483  0.194426  11.310588\n",
      "1    A-25-50    A     50  44.939444  0.298744   2.259727\n",
      "2    A-50-75    A     75  50.085959  0.242880   4.192857\n",
      "3   A-75-100    A    100  59.511678  0.264906   4.336437\n",
      "4  A-100-125    A    125  69.825587  0.249744   7.434404\n",
      "\n",
      "Prime righe di spike.hydrometric.II.csv:\n",
      "         TIMESTAMP        Date   pF25   pF75  pF125  pF175  vwcA25  vwcB25  \\\n",
      "0  2018-05-10 0:00  2018-05-10  1.452  1.285  2.396  2.387    0.17     0.2   \n",
      "1  2018-05-10 0:15  2018-05-10  1.452  1.294  2.395  2.383    0.17     0.2   \n",
      "2  2018-05-10 0:30  2018-05-10  1.453  1.293  2.394  2.378    0.17     0.2   \n",
      "3  2018-05-10 0:45  2018-05-10  1.464  1.302  2.392  2.372    0.17     0.2   \n",
      "4  2018-05-10 1:00  2018-05-10  1.459  1.299  2.391  2.368    0.17     0.2   \n",
      "\n",
      "   vwcA75  vwcC75  ...  SR.N  SR.SE  SR.SW  GRO  TWD  T.rates   ET    ET_1  \\\n",
      "0    0.21    0.21  ...   NaN    NaN    NaN  NaN  NaN      NaN  0.0  0.0000   \n",
      "1    0.21    0.21  ...   NaN    NaN    NaN  NaN  NaN      NaN  0.0  0.0000   \n",
      "2    0.21    0.21  ...   NaN    NaN    NaN  NaN  NaN      NaN  0.0  0.0000   \n",
      "3    0.21    0.21  ...   NaN    NaN    NaN  NaN  NaN      NaN  0.0  0.0023   \n",
      "4    0.21    0.21  ...   NaN    NaN    NaN  NaN  NaN      NaN  0.0  0.0090   \n",
      "\n",
      "   ET_3  ET_4  \n",
      "0   NaN   0.0  \n",
      "1   NaN   0.0  \n",
      "2   NaN   0.0  \n",
      "3   NaN   0.0  \n",
      "4   NaN   0.0  \n",
      "\n",
      "[5 rows x 34 columns]\n",
      "\n",
      "Prime righe di spike.isotope.II.csv:\n",
      "   ID        Type  Depth Sector Branch         TIMESTAMP        Date  \\\n",
      "0  57  Soil Water   50.0      A    NaN  2018-03-01 10:00  2018-03-01   \n",
      "1  58  Soil Water   50.0      B    NaN  2018-03-01 10:00  2018-03-01   \n",
      "2  59  Soil Water   50.0      C    NaN  2018-03-01 10:00  2018-03-01   \n",
      "3  60  Soil Water  100.0      A    NaN  2018-03-01 10:00  2018-03-01   \n",
      "4  61  Soil Water  100.0      C    NaN  2018-03-01 10:00  2018-03-01   \n",
      "\n",
      "   Input.volume  d18O.UoS  d2H.UoS  d18O.EPFL  d2H.EPFL  \n",
      "0           NaN       NaN      NaN      -9.52    -68.13  \n",
      "1           NaN       NaN      NaN     -10.64    -78.75  \n",
      "2           NaN       NaN      NaN     -10.40    -78.94  \n",
      "3           NaN       NaN      NaN     -11.74    -86.12  \n",
      "4           NaN       NaN      NaN      -8.81    -66.63  \n",
      "Download e caricamento completati.\n"
     ]
    }
   ],
   "source": [
    "import requests\n",
    "import pandas as pd\n",
    "from io import StringIO\n",
    "\n",
    "# URL dei file\n",
    "files = {\n",
    "    \"events_chronology.csv\": \"https://zenodo.org/record/4037240/files/events_chronology.csv?download=1\",\n",
    "    \"fineroots_spike.II.csv\": \"https://zenodo.org/record/4037240/files/fineroots_spike.II.csv?download=1\",\n",
    "    \"spike.hydrometric.II.csv\": \"https://zenodo.org/record/4037240/files/spike.hydrometric.II.csv?download=1\",\n",
    "    \"spike.isotope.II.csv\": \"https://zenodo.org/record/4037240/files/spike.isotope.II.csv?download=1\"\n",
    "}\n",
    "\n",
    "# Scarica e carica i file in DataFrame\n",
    "dataframes = {}\n",
    "for file_name, url in files.items():\n",
    "    response = requests.get(url)\n",
    "    data = StringIO(response.text)\n",
    "    dataframes[file_name] = pd.read_csv(data)\n",
    "    print(f\"{file_name} caricato con successo.\")\n",
    "\n",
    "# Esempio di accesso ai dati\n",
    "for name, df in dataframes.items():\n",
    "    print(f\"\\nPrime righe di {name}:\")\n",
    "    print(df.head())\n",
    "\n",
    "print(\"Download e caricamento completati.\")\n"
   ]
  },
  {
   "cell_type": "code",
   "execution_count": 8,
   "id": "1d8698f8-f392-43ee-9ead-9239627eb8a0",
   "metadata": {},
   "outputs": [
    {
     "data": {
      "application/vnd.jupyter.widget-view+json": {
       "model_id": "e023fc0a126f4176a4a4fc30cb08e159",
       "version_major": 2,
       "version_minor": 0
      }
     },
     "metadata": {},
     "output_type": "display_data"
    }
   ],
   "source": [
    "df.head()"
   ]
  },
  {
   "cell_type": "code",
   "execution_count": null,
   "id": "98f65c9e-117c-4d27-b684-e6be046a82e0",
   "metadata": {},
   "outputs": [],
   "source": []
  }
 ],
 "metadata": {
  "kernelspec": {
   "display_name": "Python 3 (ipykernel)",
   "language": "python",
   "name": "python3"
  },
  "language_info": {
   "codemirror_mode": {
    "name": "ipython",
    "version": 3
   },
   "file_extension": ".py",
   "mimetype": "text/x-python",
   "name": "python",
   "nbconvert_exporter": "python",
   "pygments_lexer": "ipython3",
   "version": "3.7.12"
  }
 },
 "nbformat": 4,
 "nbformat_minor": 5
}
