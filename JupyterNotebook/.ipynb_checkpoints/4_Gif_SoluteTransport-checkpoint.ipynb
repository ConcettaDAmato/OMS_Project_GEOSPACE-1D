{
 "cells": [
  {
   "cell_type": "markdown",
   "metadata": {},
   "source": [
    "# _**Output of ADE**_\n",
    "\n",
    "_Authors: Concetta D'Amato, Niccolò Tubini and Riccardo Rigon_\n",
    "\n",
    "\n",
    "\n",
    "License: Creative Commons 4.0\n",
    "\n",
    "## Before starting\n",
    "\n",
    "The **output** are stored in [NetCDF](https://en.wikipedia.org/wiki/NetCDF). [Here](https://towardsdatascience.com/handling-netcdf-files-using-xarray-for-absolute-beginners-111a8ab4463f) an introduction on how to read a NetCDF file using the python library [xarray](http://xarray.pydata.org/en/stable/). The other output are stored as csv file. \n",
    "\n",
    "The **outputs** are:\n",
    "- Water Suction\n",
    "- Water Content"
   ]
  },
  {
   "cell_type": "code",
   "execution_count": null,
   "metadata": {},
   "outputs": [],
   "source": [
    "%reload_ext autoreload\n",
    "%autoreload 2\n",
    "%matplotlib inline\n",
    "import os\n",
    "import numpy as np\n",
    "import matplotlib\n",
    "import matplotlib.pyplot as plt\n",
    "import matplotlib.dates as mdates\n",
    "import matplotlib.colors as cl \n",
    "from matplotlib import rc\n",
    "import matplotlib.style as style \n",
    "import math\n",
    "import xarray as xr\n",
    "import warnings\n",
    "import plotly.graph_objects as go\n",
    "import plotly.express as px\n",
    "import imageio\n",
    "\n",
    "\n",
    "import pandas as pd\n",
    "warnings.filterwarnings('ignore')\n",
    "style.available\n",
    "style.use('seaborn-whitegrid')\n",
    "from GEOSPACE_Output import*\n",
    "\n",
    "####### Plot settings #######\n",
    "nice_fonts = {\n",
    "    \"legend.frameon\": True, \n",
    "    \"legend.fancybox\": True, \n",
    "    \"legend.facecolor\": \"white\", \n",
    "    \"axes.edgecolor\": \"0.8\",\n",
    "    \"axes.linewidth\": 0.6,\n",
    "    \"grid.linewidth\":0.3,\n",
    "    # Use LaTeX to write all text\n",
    "    \"text.usetex\": False,\n",
    "    \"font.family\": \"serif\",\n",
    "    # Use 10pt font in plots, to match 10pt font in document\n",
    "    \"axes.labelsize\": 16,\n",
    "    \"font.size\": 16,\n",
    "    # Make the legend/label fonts a little smaller\n",
    "    \"legend.fontsize\": 12,\n",
    "    \"xtick.labelsize\": 12,\n",
    "    \"ytick.labelsize\": 12,\n",
    "}\n",
    "plt.rcParams.update(nice_fonts)\n",
    "\n",
    "project_path = os.path.dirname(os.getcwd())"
   ]
  },
  {
   "cell_type": "code",
   "execution_count": null,
   "metadata": {},
   "outputs": [],
   "source": [
    "os.chdir(project_path+'/output/Cavone/1')\n",
    "#os.listdir()"
   ]
  },
  {
   "cell_type": "code",
   "execution_count": null,
   "metadata": {},
   "outputs": [],
   "source": [
    "project_path"
   ]
  },
  {
   "cell_type": "code",
   "execution_count": null,
   "metadata": {},
   "outputs": [],
   "source": [
    "file_name = 'OMS_ADEwaterstress_1606_01_0000.nc'"
   ]
  },
  {
   "cell_type": "code",
   "execution_count": null,
   "metadata": {},
   "outputs": [],
   "source": [
    "ds = xr.open_dataset(file_name,engine='scipy')\n",
    "ds"
   ]
  },
  {
   "cell_type": "markdown",
   "metadata": {},
   "source": [
    "## Plot Error "
   ]
  },
  {
   "cell_type": "code",
   "execution_count": null,
   "metadata": {
    "tags": []
   },
   "outputs": [],
   "source": [
    "fig = plt.figure(figsize=(10,14/1.618))\n",
    "ax = ds.errorVolume.plot(linewidth=1.8, color='blue')\n",
    "plt.xlabel('')\n",
    "plt.ylabel('Volume error at each time step [m]') \n",
    "plt.title('Error over time')\n",
    "plt.grid(color='grey', linestyle='-', linewidth=0.3)"
   ]
  },
  {
   "cell_type": "code",
   "execution_count": null,
   "metadata": {},
   "outputs": [],
   "source": [
    "fig = plt.figure(figsize=(10,14/1.618))\n",
    "ax = ds.errorWaterVolumeConcentration.plot(linewidth=1.8, color='blue')\n",
    "plt.xlabel('')\n",
    "plt.ylabel('Volume error at each time step [m]') \n",
    "plt.title('Error over time')\n",
    "plt.grid(color='grey', linestyle='-', linewidth=0.3)"
   ]
  },
  {
   "cell_type": "code",
   "execution_count": null,
   "metadata": {},
   "outputs": [],
   "source": [
    "fig = plt.figure(figsize=(8,13/1.62))\n",
    "ax = ds.concentrations.plot(y='depth', cmap='viridis',add_colorbar=False)\n",
    "plt.xlabel('Time')\n",
    "plt.ylabel('')\n",
    "plt.title('Concentration')\n",
    "cb = plt.colorbar(ax, orientation=\"vertical\",pad=0.05) # horizontal\n",
    "cb.set_label(label='$\\psi$ [m]')"
   ]
  },
  {
   "cell_type": "markdown",
   "metadata": {},
   "source": [
    "\n",
    "<br>"
   ]
  },
  {
   "cell_type": "code",
   "execution_count": null,
   "metadata": {},
   "outputs": [],
   "source": [
    "myDepth = [-0.10,-0.25,-0.50,-1.00,-1.50]"
   ]
  },
  {
   "cell_type": "code",
   "execution_count": null,
   "metadata": {},
   "outputs": [],
   "source": [
    "fig = plt.figure(figsize=(10,14/1.618))\n",
    "for i in range (0,len(myDepth)):\n",
    "    ds.psi.sel(depth=myDepth[i], method='nearest', time=ds.time.values[:]).plot(linewidth=1.8, label=str(myDepth[i])+' m')\n",
    "plt.ylabel('$\\psi$ [m]')\n",
    "plt.xlabel('Time')\n",
    "plt.title('Water suction')\n",
    "plt.legend(bbox_to_anchor=(1.2,0.8))\n",
    "plt.grid(color='grey', linestyle='-', linewidth=0.3)"
   ]
  },
  {
   "cell_type": "code",
   "execution_count": null,
   "metadata": {},
   "outputs": [],
   "source": [
    "fig = plt.figure(figsize=(10,14/1.618))\n",
    "for i in range (0,len(myDepth)):\n",
    "    ds.theta.where(ds.depth<0).sel(depth=myDepth[i], method='nearest', time=ds.time.values[:]).plot(linewidth=1.8, label=str(myDepth[i])+' m')\n",
    "plt.ylabel('$\\\\theta$ [-]')\n",
    "plt.xlabel('Time')\n",
    "plt.title('Water content')\n",
    "plt.legend(bbox_to_anchor=(1.4,0.8))\n",
    "plt.grid(color='grey', linestyle='-', linewidth=0.3)"
   ]
  },
  {
   "cell_type": "code",
   "execution_count": null,
   "metadata": {},
   "outputs": [],
   "source": [
    "fig = plt.figure(figsize=(10,14/1.618))\n",
    "for i in range (0,len(myDepth)):\n",
    "    ds.concentrations.where(ds.depth<0).sel(depth=myDepth[i], method='nearest', time=ds.time.values[:]).plot(linewidth=1.8, label=str(myDepth[i])+' m')\n",
    "plt.ylabel('')\n",
    "plt.xlabel('Time')\n",
    "plt.title('Concentration')\n",
    "plt.legend(bbox_to_anchor=(1.4,0.8))\n",
    "plt.grid(color='grey', linestyle='-', linewidth=0.3)"
   ]
  },
  {
   "cell_type": "code",
   "execution_count": null,
   "metadata": {},
   "outputs": [],
   "source": [
    "fig = px.line()\n",
    "for i in range (0,len(myDepth)):\n",
    "    fig.add_trace(go.Scatter(x=ds.time.values[:], y=ds.concentrations.sel(depth=myDepth[i], method='nearest', time=ds.time.values[:]) , mode='lines', name=str(myDepth[i])+' m'))\n",
    "    \n",
    "fig.update_layout(title= 'Concentration')\n",
    "fig.show()"
   ]
  },
  {
   "cell_type": "code",
   "execution_count": null,
   "metadata": {},
   "outputs": [],
   "source": [
    "fig = px.line()\n",
    "for i in range (0,len(myDepth)):\n",
    "    fig.add_trace(go.Scatter(x=ds.time.values[:], y=ds.soluteSourcesSinksTerm.sel(depth=myDepth[i], method='nearest', time=ds.time.values[:]) , mode='lines', name=str(myDepth[i])+' m'))\n",
    "    \n",
    "fig.update_layout(title= 'Concentration')\n",
    "fig.show()"
   ]
  },
  {
   "cell_type": "code",
   "execution_count": null,
   "metadata": {},
   "outputs": [],
   "source": [
    "fig = px.line()\n",
    "for i in range (0,len(myDepth)):\n",
    "    fig.add_trace(go.Scatter(x=ds.time.values[:], y=ds.ets.sel(depth=myDepth[i], method='nearest', time=ds.time.values[:]) , mode='lines', name=str(myDepth[i])+' m'))\n",
    "    \n",
    "fig.update_layout(title= 'Concentration')\n",
    "fig.show()"
   ]
  },
  {
   "cell_type": "code",
   "execution_count": null,
   "metadata": {},
   "outputs": [],
   "source": [
    "fig = px.line()\n",
    "for i in range (0,len(myDepth)):\n",
    "    fig.add_trace(go.Scatter(x=ds.time.values[:], y=ds.theta.sel(depth=myDepth[i], method='nearest', time=ds.time.values[:]) , mode='lines', name=str(myDepth[i])+' m'))\n",
    "    \n",
    "fig.update_layout(title= 'Water Content')\n",
    "fig.show()"
   ]
  },
  {
   "cell_type": "markdown",
   "metadata": {},
   "source": [
    "### Plot specifical date\n",
    "Define a vector of date 'myDate' you would plot "
   ]
  },
  {
   "cell_type": "code",
   "execution_count": null,
   "metadata": {},
   "outputs": [],
   "source": [
    "root_depth = -2.0\n",
    "evaporation_layer_depth = -0.5"
   ]
  },
  {
   "cell_type": "code",
   "execution_count": null,
   "metadata": {},
   "outputs": [],
   "source": [
    "myDate = ['2018-05-10 01:00','2018-05-20 01:00','2018-05-30 01:00','2018-06-10 01:00','2018-06-20 01:00','2018-06-30 01:00']"
   ]
  },
  {
   "cell_type": "code",
   "execution_count": null,
   "metadata": {},
   "outputs": [],
   "source": [
    "fig = plt.figure(figsize=(10,14/1.618))\n",
    "for i in range (0,len(myDate)):\n",
    "    ds.concentrations.sel(time=myDate[i],depth=ds.depth.values[0:len(ds.depth)-1]).plot(y='depth', linewidth=1.8,marker='.',markersize=1, label=myDate[i])\n",
    "plt.xlabel('$\\\\gamma $ [$mmol\\cdot m^{−3}$]')\n",
    "plt.title('Solute Concentration')\n",
    "plt.legend(bbox_to_anchor=(1.4,0.8))\n",
    "plt.grid(color='grey', linestyle='-', linewidth=0.3)\n",
    "#save figure\n",
    "#plt.savefig('WaterContent1_5.png', dpi=300, bbox_inches = \"tight\")"
   ]
  },
  {
   "cell_type": "code",
   "execution_count": null,
   "metadata": {},
   "outputs": [],
   "source": [
    "fig = plt.figure(figsize=(10,14/1.618))\n",
    "for i in range (0,len(myDate)):\n",
    "    ds.psi.sel(time=myDate[i]).plot(y='depth', linewidth=1.8,marker='.',markersize=1, label=myDate[i])\n",
    "plt.xlim([-3.5, 0.2])\n",
    "plt.axhline(y=root_depth, xmin=0, xmax=1,color='black',linewidth=1, linestyle='-.')\n",
    "plt.text(-3, root_depth-0.050, 'root depth', horizontalalignment='center',verticalalignment='center', fontsize=18, bbox=dict(facecolor='white', alpha=0.))\n",
    "plt.axhline(y=evaporation_layer_depth, xmin=0, xmax=1,color='black',linewidth=1,linestyle='-.')\n",
    "plt.text(-2.8, evaporation_layer_depth-0.050, 'evaporation depth', horizontalalignment='center',verticalalignment='center', fontsize=18, bbox=dict(facecolor='white', alpha=0.))\n",
    "plt.xlabel('$\\\\psi$ [m]')\n",
    "plt.title('Water suction')\n",
    "plt.legend(bbox_to_anchor=(1.4,0.8))\n",
    "plt.grid(color='grey', linestyle='-', linewidth=0.3)"
   ]
  },
  {
   "cell_type": "code",
   "execution_count": null,
   "metadata": {},
   "outputs": [],
   "source": [
    "fig = plt.figure(figsize=(10,14/1.618))\n",
    "for i in range (0,len(myDate)):\n",
    "    ds.theta.sel(time=myDate[i],depth=ds.depth.values[0:len(ds.depth)-1]).plot(y='depth', linewidth=1.8,marker='.',markersize=1, label=myDate[i])\n",
    "plt.xlabel('$\\\\theta$ [-]')\n",
    "plt.title('Water content')\n",
    "plt.legend(bbox_to_anchor=(1.4,0.8))\n",
    "plt.grid(color='grey', linestyle='-', linewidth=0.3)"
   ]
  },
  {
   "cell_type": "code",
   "execution_count": null,
   "metadata": {},
   "outputs": [],
   "source": [
    "fig = plt.figure(figsize=(10,14/1.618))\n",
    "ds.advectionSoluteFluxes.sel(dualDepth=ds.dualDepth[50], time=ds.time.values[:]).plot(linewidth=1.8,color='blue')\n",
    "plt.title('advectionSoluteFluxes-1 m')\n",
    "plt.xlabel('Time')\n",
    "plt.grid(color='grey', linestyle='-', linewidth=0.3)"
   ]
  },
  {
   "cell_type": "markdown",
   "metadata": {},
   "source": [
    "# Plot Evapotranspiration"
   ]
  },
  {
   "cell_type": "code",
   "execution_count": null,
   "metadata": {},
   "outputs": [],
   "source": [
    "os.chdir(project_path+'/output/Cavone/1')\n",
    "#os.listdir()"
   ]
  },
  {
   "cell_type": "code",
   "execution_count": null,
   "metadata": {},
   "outputs": [],
   "source": [
    "df = pd.read_csv('EvapoTranspiration_1_ADEwaterstress_1606_01.csv',skiprows=6, sep=',', parse_dates=[0], na_values=-9999,usecols=[1,2])\n",
    "df.columns = ['Datetime','T-Prospero [mm]']\n",
    "\n",
    "fig = px.line(df, x='Datetime', y='T-Prospero [mm]', title='Time Series Transpiration')\n",
    "#fig.update_xaxes(rangeslider_visible=True)\n",
    "fig.show()"
   ]
  },
  {
   "cell_type": "markdown",
   "metadata": {},
   "source": [
    "# GIF"
   ]
  },
  {
   "cell_type": "markdown",
   "metadata": {},
   "source": [
    "## Originale"
   ]
  },
  {
   "cell_type": "code",
   "execution_count": null,
   "metadata": {},
   "outputs": [],
   "source": [
    "def GIF_Write_Read(path_gif, file_name, gif_name, Npics, velocity):\n",
    "    \n",
    "    image_folder = os.fsencode(path_gif)\n",
    "\n",
    "    list_of_files = []\n",
    "    for i in range(1,Npics+1):\n",
    "        list_of_files.append(path_gif+file_name+\"% s\"%i)\n",
    "        \n",
    "    images = list(map(lambda filename: imageio.imread(filename), list_of_files))\n",
    "    imageio.mimsave(path_gif+gif_name, images, duration = velocity)\n",
    "    \n",
    "    display(Image(filename=path_gif+gif_name))"
   ]
  },
  {
   "cell_type": "code",
   "execution_count": null,
   "metadata": {},
   "outputs": [],
   "source": [
    "file_name='psi_Blues_%d.png'\n",
    "gif_name='psi_Blues_section.gif'"
   ]
  },
  {
   "cell_type": "code",
   "execution_count": null,
   "metadata": {},
   "outputs": [],
   "source": [
    "GIF_Write_Read(path_gif, file_name, gif_name, Ntime, 0.2)"
   ]
  },
  {
   "cell_type": "code",
   "execution_count": null,
   "metadata": {},
   "outputs": [],
   "source": [
    "for time in range(1,Ntime+1):\n",
    "    \n",
    "    fig=plt.figure()\n",
    "    \n",
    "    ax=fig.add_subplot(111)\n",
    "    .......\n",
    "    plt.savefig(path_gif+file_name %time )"
   ]
  },
  {
   "cell_type": "code",
   "execution_count": null,
   "metadata": {},
   "outputs": [],
   "source": []
  },
  {
   "cell_type": "code",
   "execution_count": null,
   "metadata": {},
   "outputs": [],
   "source": []
  },
  {
   "cell_type": "code",
   "execution_count": null,
   "metadata": {},
   "outputs": [],
   "source": []
  },
  {
   "cell_type": "code",
   "execution_count": null,
   "metadata": {},
   "outputs": [],
   "source": [
    "os.chdir(project_path+'/output/Cavone/1/gif')"
   ]
  },
  {
   "cell_type": "markdown",
   "metadata": {},
   "source": [
    "Salvo le immagini"
   ]
  },
  {
   "cell_type": "code",
   "execution_count": null,
   "metadata": {},
   "outputs": [],
   "source": [
    "for i in range (0,len(ds.time.values)):\n",
    "    fig = plt.figure(figsize=(10,14/1.618))\n",
    "    ds.concentrations.sel(time=ds.time.values[i],depth=ds.depth.values[0:len(ds.depth)-1]).plot(y='depth', linewidth=1.8,marker='.',markersize=1,label=ds.time.values[i])\n",
    "    plt.xlabel('$\\\\gamma $ [-]')\n",
    "    plt.title('Solute Concentration')\n",
    "    plt.legend(bbox_to_anchor=(1.5,0.8))\n",
    "    plt.grid(color='grey', linestyle='-', linewidth=0.3)\n",
    "\n",
    "    file_name='concentration'\n",
    "    plt.savefig(file_name+\"% s\"%i)\n",
    "#plt.savefig('WaterContent1_5.png', dpi=300, bbox_inches = \"tight\")"
   ]
  },
  {
   "cell_type": "markdown",
   "metadata": {},
   "source": [
    "## crate gif "
   ]
  },
  {
   "cell_type": "code",
   "execution_count": null,
   "metadata": {},
   "outputs": [],
   "source": [
    "def GIF_Write_Read(file_name, gif_name, Npics, velocity):\n",
    "    \n",
    "    image_folder = os.fsencode(project_path+'/output/Cavone/1/gif')\n",
    "\n",
    "    list_of_files = []\n",
    "    for i in range(0,Npics):\n",
    "        list_of_files.append(file_name+\"% s\"%i+'.png')\n",
    "        \n",
    "    images = list(map(lambda filename: imageio.imread(filename), list_of_files))\n",
    "    imageio.mimsave(gif_name, images, duration = velocity)\n",
    "    \n",
    "    display(Image(filename=gif_name))"
   ]
  },
  {
   "cell_type": "code",
   "execution_count": null,
   "metadata": {},
   "outputs": [],
   "source": [
    "gif_name='concentration.gif'\n",
    "Ntime=len(ds.time.values)"
   ]
  },
  {
   "cell_type": "code",
   "execution_count": null,
   "metadata": {},
   "outputs": [],
   "source": [
    "GIF_Write_Read(file_name, gif_name, Ntime, 0.1)"
   ]
  },
  {
   "cell_type": "code",
   "execution_count": null,
   "metadata": {},
   "outputs": [],
   "source": [
    "GIF_Write_Read(file_name, gif_name, Ntime, 0.1)"
   ]
  },
  {
   "cell_type": "code",
   "execution_count": null,
   "metadata": {},
   "outputs": [],
   "source": []
  },
  {
   "cell_type": "code",
   "execution_count": null,
   "metadata": {},
   "outputs": [],
   "source": []
  }
 ],
 "metadata": {
  "kernelspec": {
   "display_name": "Python 3 (ipykernel)",
   "language": "python",
   "name": "python3"
  },
  "language_info": {
   "codemirror_mode": {
    "name": "ipython",
    "version": 3
   },
   "file_extension": ".py",
   "mimetype": "text/x-python",
   "name": "python",
   "nbconvert_exporter": "python",
   "pygments_lexer": "ipython3",
   "version": "3.7.12"
  }
 },
 "nbformat": 4,
 "nbformat_minor": 4
}
