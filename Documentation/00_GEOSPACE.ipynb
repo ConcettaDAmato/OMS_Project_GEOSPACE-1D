{
 "cells": [
  {
   "cell_type": "markdown",
   "metadata": {},
   "source": [
    "# GEOSPACE v1.2.9 - Soil Plant Atmosphere Continuum Estimator model in GEOframe"
   ]
  },
  {
   "cell_type": "markdown",
   "metadata": {},
   "source": [
    "**Author:** [Concetta D'Amato](https://www.researchgate.net/profile/Concetta-Damato) \n",
    "\n",
    "**Documentation Author:** [Concetta D'Amato](https://www.researchgate.net/profile/Concetta-Damato), [Riccardo Rigon](https://abouthydrology.blogspot.com/2014/09/my-cv.html)\n",
    "\n",
    "**To whom address questions:** \n",
    " - [Concetta D'Amato](https://www.researchgate.net/profile/Concetta-Damato) \n",
    " - [GEOframe Users Group](https://groups.google.com/forum/#!forum/geoframe-components-users)\n",
    " - [GEOframe Developers Mailing List](https://groups.google.com/forum/#!forum/geoframe-components-developers)\n",
    " \n",
    "**Version:** [1.2.9](https://github.com/geoframecomponents/GEOSPACE-1D/releases/tag/v1.2.9)\n",
    "\n",
    "**Keywords:** \n",
    "\n",
    "**License:** [GPL3 v3](https://www.gnu.org/licenses/gpl-3.0.en.html)"
   ]
  },
  {
   "cell_type": "markdown",
   "metadata": {},
   "source": [
    "# Table of Contents\n",
    "\n",
    "* [Abstract](#abstract)\n",
    "    * [Visual abstract](#visual-abstract)\n",
    "* [Descriptions for general Audience](#descriptiongeneralaudience)\n",
    "    * [Source code and Executables](#executables)\n",
    "* [Component Description](#componentdescription)\n",
    "    * [Inputs](#inputs)\n",
    "    * [Output](#outputs)\n",
    "* [Descriptions for Components Linkers](#description_for_components_linkers)\n",
    "* [GEOframe Community guidelines](#GEOframe_community_guidelines)\n",
    "* [Acknowledgements](#acknowledgements)\n",
    "* [References](#references)"
   ]
  },
  {
   "cell_type": "markdown",
   "metadata": {},
   "source": [
    "---"
   ]
  },
  {
   "cell_type": "markdown",
   "metadata": {},
   "source": [
    "# Abstract <a class=\"anchor\" id=\"abstract\"></a>"
   ]
  },
  {
   "cell_type": "markdown",
   "metadata": {},
   "source": [
    "# GEOSPACE-1D\n",
    "\n",
    "GEOSPACE (Soil Plant Atmosphere Continuum Estimator model in GEOframe) is a Java-based ecohydrological modeling system developed within the GEOframe framework. It simulates the interactions between the atmosphere, vegetation, and soil, focusing on water and energy exchanges within the Earth’s Critical Zone. GEOSPACE integrates multiple models to provide a comprehensive understanding of these processes, including water flow, evapotranspiration (ET), and plant hydraulics.\n",
    "\n",
    "This model adopts a **component-based** approach, breaking down the complexity of the **Soil-Plant-Atmosphere Continuum (SPAC)** into distinct, modular components. This approach enables the development of flexible, extensible, and reproducible models tailored to different user needs. Each component in GEOSPACE addresses a specific aspect of the SPAC, promoting interdisciplinary research and reliable simulations.\n",
    "\n",
    "More details and information are available in [D’Amato, C.: Exploring the Soil-Plant-Atmosphere Continuum: Advancements, Integrated Modeling and Ecohydrological Insights, Ph.D. thesis, Center Agriculture Food Environment (C3A), University of Trento, 2024](https://abouthydrology.blogspot.com/2024/04/exploring-soil-plant-atmosphere.html).\n",
    "\n",
    "## Scientific Overview\n",
    "\n",
    "The SPAC system involves complex processes such as heat transfer, evapotranspiration, precipitation, water absorption, soil water flow, substance transport, and gas exchange. GEOSPACE captures these interactions using three main components:\n",
    "\n",
    "1. **WHETGEO** (Water HEat Transport in GEOframe): Simulates water flow in the soil using the Richards-Richardson equation, solved with the Newton-Casulli-Zanolli algorithm, allowing for a robust treatment of variably saturated flow and heat transport [(Tubini and Rigon, 2022)](https://gmd.copernicus.org/articles/15/75/2022/gmd-15-75-2022.html).\n",
    "\n",
    "2. **GEOET** (GEOframe EvapoTranspiration): A suite of evapotranspiration models including Priestley-Taylor, Penman-Monteith FAO, and Prospero, which incorporate energy budget calculations and detailed treatments of plant hydraulics and environmental stresses (e.g., Jarvis and Medlyn stomatal conductance models). \n",
    "\n",
    "3. **BrokerGEO**: A coupling component that manages data exchange between WHETGEO and GEOET, dynamically partitioning evapotranspiration, soil evaporation and plant transpiration across control volumes in the soil.\n",
    "\n",
    "### Component-Based Design\n",
    "\n",
    "GEOSPACE follows the principle of **modeling by components (MBC)** [(Rigon et al., 2022)](https://hess.copernicus.org/articles/26/4773/2022/). Each component is designed to perform a distinct task, allowing users to create customized modeling solutions by selecting and interchanging components as needed. This **object-oriented programming (OOP)** approach ensures that each component adheres to common interfaces, promoting flexibility and extensibility. The system also follows the \"open to extensions, closed to modifications\" principle, facilitating the addition of new features without altering existing components.\n",
    "\n",
    "This modularity supports rigorous testing and inspection, ensuring that individual processes can be validated independently. Additionally, GEOSPACE supports the integration of new physical processes, such as alternative plant hydraulic models or new soil-root interaction formulations, making it a versatile tool for studying SPAC interactions under various environmental conditions.\n",
    "\n",
    "### Key Features\n",
    "- **Modular Architecture**: Each component (WHETGEO, GEOET, BrokerGEO) can be used independently or in combination, allowing users to adapt the system to their specific research needs.\n",
    "- **Multiple ET Models**: GEOET offers a range of evapotranspiration models, from empirical to physically-based, enabling comparative studies of different formulations.\n",
    "- **Dynamic Coupling**: BrokerGEO facilitates feedback between water flow and ET processes, ensuring that changes in soil moisture dynamically influence ET rates.\n",
    "- **Environmental Stress Handling**: GEOET includes detailed models for environmental stresses (e.g., water scarcity) using functions like the Jarvis and Medlyn models.\n",
    "\n",
    "### Applications\n",
    "GEOSPACE is ideal for studying ecohydrological processes in the Earth’s Critical Zone. Applications include:\n",
    "- **Water Resources Management**: Modeling water availability and plant-water relations under different environmental conditions.\n",
    "- **Agriculture**: Simulating irrigation demands and the impact of water stress on crop yields.\n",
    "- **Climate Change**: Investigating how changing climatic conditions affect the water cycle and plant growth."
   ]
  },
  {
   "cell_type": "markdown",
   "metadata": {
    "tags": []
   },
   "source": [
    "## Visual Abstract <a class=\"anchor\" id=\"visual-abstract\"></a>\n"
   ]
  },
  {
   "cell_type": "markdown",
   "metadata": {},
   "source": [
    "---"
   ]
  },
  {
   "cell_type": "markdown",
   "metadata": {},
   "source": [
    "# Descriptions for general Audience <a class=\"anchor\" id=\"descriptiongeneralaudience\"></a>"
   ]
  },
  {
   "cell_type": "markdown",
   "metadata": {},
   "source": [
    "## Software Structure\n",
    "GEOSPACE is implemented in Java and integrated with the **OMS3** (Object Modeling System v3) framework, which supports modular environmental modeling. This framework allows users to customize and expand the model through the use of distinct components. GEOSPACE components are organized into Java packages that handle various hydrological, evapotranspiration, and data management tasks.\n",
    "\n",
    "### GEOSPACE Components and Versions\n",
    "GEOSPACE consists of multiple components, each versioned and packaged independently:\n",
    "\n",
    "- **WHETGEO** (`whetgeo1d-1.2.9`): Simulates water and heat transport in the soil using the Richards equation for variably saturated flow.\n",
    "  \n",
    "- **BrokerGEO** (`brokergeo-1.3.9`): Manages the coupling between evapotranspiration and soil water content, partitioning ET into soil evaporation and transpiration.\n",
    "  \n",
    "- **GEOET** (`geoet-1.5.9`): Simulates evapotranspiration using various models (Priestley-Taylor, Penman-Monteith FAO, Prospero) and incorporates plant hydraulics and stress factor calculations.\n",
    "  \n",
    "- **Buffer** (`buffer-1.1.9`): Manages data in memory and handles printing tasks during simulations.\n",
    "  \n",
    "- **ClosureEquation** (`closureequation-1.1.9`): Manages hydraulic and thermal properties equations used by WHETGEO.\n",
    "  \n",
    "- **NetCDF** (`netcdf-1.1.9`): Handles input and output operations for NetCDF file formats, facilitating large dataset management.\n",
    "  \n",
    "- **Numerical** (`numerical-1.0.2`): Provides core numerical algorithms for solving linear and nonlinear systems.\n",
    "\n",
    "The system supports a high degree of modularity, allowing new processes or models to be integrated easily by creating new components or extending existing ones. The architecture also ensures that simulations are reproducible, as OMS3 workflows are stored in `.sim` files that preserve all the configuration details for exact replication.\n"
   ]
  },
  {
   "cell_type": "markdown",
   "metadata": {},
   "source": [
    "## Source code and Executables <a class=\"anchor\" id=\"executables\"></a>"
   ]
  },
  {
   "cell_type": "markdown",
   "metadata": {},
   "source": [
    "## Source Code\n",
    "- [WHETGEO Repository](https://github.com/geoframecomponents/WHETGEO-1D)\n",
    "- [GEOET Repository](https://github.com/geoframecomponents/GEOET)\n",
    "- [BrokerGEO Repository](https://github.com/geoframecomponents/BrokerGEO)\n",
    "\n",
    "## Executables\n",
    "- [GEOSPACE Executables](https://github.com/GEOframeOMSProjects/OMS_Project_GEOSPACE-1D)\n",
    "- [WHETGEO Executables](https://github.com/GEOframeOMSProjects/OMS_Project_WHETGEO1D)\n",
    "- [GEOET Executables](https://github.com/GEOframeOMSProjects/OMS_Project_GEOET)"
   ]
  },
  {
   "cell_type": "markdown",
   "metadata": {},
   "source": [
    "---"
   ]
  },
  {
   "cell_type": "markdown",
   "metadata": {},
   "source": [
    "# Component Description <a class=\"anchor\" id=\"componentdescription\"></a>"
   ]
  },
  {
   "cell_type": "markdown",
   "metadata": {
    "tags": []
   },
   "source": [
    "## Inputs <a class=\"anchor\" id=\"inputs\"></a>"
   ]
  },
  {
   "cell_type": "markdown",
   "metadata": {},
   "source": [
    "### Detailed inputs Description <a class=\"anchor\" id=\"detailed_input_description\"></a>"
   ]
  },
  {
   "cell_type": "markdown",
   "metadata": {},
   "source": [
    "## Outputs <a class=\"anchor\" id=\"outputs\"></a>"
   ]
  },
  {
   "cell_type": "markdown",
   "metadata": {},
   "source": [
    "---"
   ]
  },
  {
   "cell_type": "markdown",
   "metadata": {},
   "source": [
    "# Descriptions for Components Linkers <a class=\"anchor\" id=\"description_for_components_linkers\"></a>\n",
    "\n",
    "<em> <b>Linkers</b> are users who use the component to provide Modelling Solution, i.e. a working setup \n",
    "of components to perform some task. The information below contains internals of the component that can be accessed only by reading the code."
   ]
  },
  {
   "cell_type": "markdown",
   "metadata": {},
   "source": [
    "## org.jgrasstools.gears.io.timedependent.OmsTimeSeriesIteratorReader <a class=\"anchor\" id=\"OmsTimeSeriesIteratorReader\"></a>\n",
    "This component reads an OMS time series.\n",
    "\n",
    "------\n",
    "\n",
    "Within the section components of the .sim file you declare the component to write the output in the NetCDF file format:\n",
    "\n",
    "```groovy\n",
    "\"reader_timeseries\" \"org.jgrasstools.gears.io.timedependent.OmsTimeSeriesIteratorReader\"\n",
    "```\n",
    "`reader_timeseries` is the name of your component, `org.jgrasstools.gears.io.timedependent.OmsTimeSeriesIteratorReader` identifies the Java class by using the package name `org.jgrasstools.gears.io.timedependent` followed by the class name.\n",
    "\n",
    "To refer to the variables of the Java class, technically called fields, you simply use the following syntax\n",
    "\n",
    "```groovy\n",
    "\"reader_timeseries.your_field\" \n",
    "```\n",
    "\n",
    "### Fields <a class=\"anchor\" id=\"OmsTimeSeriesIteratorReader_fields\"></a>\n",
    "\n",
    "Inputs:\n",
    "- file: string defining the path of the file containing time series to read. Type `String`\n",
    "\n",
    "- idfield: first string that appears in the 4th line of the input file. It is used to define the line containg the column headers. Type `String`\n",
    "\n",
    "- tStart: string defining start date of the simulation. Date format is yyyy-MM-dd hh:mm. Type `String`\n",
    "\n",
    "- tEnd: string defining end date of the simulation. Date format is yyyy-MM-dd hh:mm. Type `String`\n",
    "\n",
    "- tTimeStep: string defining the time step of the time series. Expressed in minutes. Type `String`\n",
    "\n",
    "- fileNoValue: string defining used to specify the no value in the time series. It must be -9999. Type `String`\n",
    "\n",
    "Outputs:\n",
    "- outData: values for the current date. Type `HashMap<Integer, double[]>`\n",
    "\n",
    "- doProcess: boolean value used to control the end of the simulation. Type `boolean`"
   ]
  },
  {
   "cell_type": "markdown",
   "metadata": {},
   "source": [
    "# GEOframe Community guidelines <a class=\"anchor\" id=\"GEOframe_community_guidelines\"></a>\n",
    "\n",
    "Support for users can be obtained by writing at the  \n",
    "- [GEOframe Users Group](https://groups.google.com/forum/#!forum/geoframe-components-users)\n",
    "\n",
    "Developers should write to the\n",
    "- [GEOframe Developers Mailing List](https://groups.google.com/forum/#!forum/geoframe-components-developers)\n",
    "\n",
    "Anyone is free to contribute. However, the suggestion is to start with branching our code, modyfing it and eventually call issue a pull request. \n",
    "\n",
    "## Who can be code Author ? <a class=\"anchor\" id=\"GEOframe_community_guidelines_who_can_be_the_author\"></a>\n",
    "\n",
    "Giving appropriate credits for the intellectual input through co-authorships or citations should be the proper functioning of the community.  The formal, legal conditions that govern the use of GEOframe at present are given by the G.P.L. v 3. Each GEOframe component can have its own license though. \n",
    "\n",
    "This policy is not intended to restrict what can be done with GEOframe codes, rather to ensure appropriate acknowledgement and communication between users and developers. This policy will be updated regularly.\n",
    "\n",
    "A developer is any person whose expertise has either significantly \n",
    "- influenced the design of GEOframe code or \n",
    "- who has written code, \n",
    "with no distinction between scientific and technical inputs. \n",
    "- Financial support alone is <b> not enough </b> to claim for being a code author. This should be recognized in Acknowledgments (see below)\n",
    "- For being added as co-author of an existing code, modifications have to be subtantial, not simply a bug fixing which is recognized in Acknowledgment. Essentially this status is discussed upon a pull request.\n",
    "\n",
    "When writing the source code of a component, GEOframe developers should consider the following:\n",
    "- Provide a brief description of what the program does.\n",
    "- State the authors of the code and the following modifiers.\n",
    "- Describe the input required to run the component and its output.\n",
    "- Some notes concerning the limitations, and the algorithms used within the component. A wish-list for the future version and/or information.\n",
    "- Articles or books which have inspired the codex or justified its necessity. Users are encouraged to cite these papers in their own work.\n",
    "Which is what this Notebook is about. \n",
    "\n",
    "Ideally a new committed code should conform to the rules required by [Joss](https://joss.readthedocs.io/en). \n",
    "Please, see also: [The GEOframe publication policy 1.0 document](https://geoframe.blogspot.com/2020/05/geoframe-community-publication-policy.html)"
   ]
  },
  {
   "cell_type": "markdown",
   "metadata": {},
   "source": [
    "# Acknowledgements <a class=\"anchor\" id=\"acknowledgements\"></a>\n",
    "\n",
    "-  Concetta D'Amato and Riccardo Rigon wrote the documentation in the Notebooks\n",
    "- Concetta D’Amato, Niccolò Tubini, and Riccardo Rigon contributed significantly to the development of GEOSPACE and its components.\n",
    "- GEOSPACE development was supported by Concetta D'Amato Ph.D. grant by [C3A-UniTrento](https://www.centro3a.unitn.it/) and by WATZON, WATERSTEM and WATSON projects.\n"
   ]
  },
  {
   "cell_type": "markdown",
   "metadata": {},
   "source": [
    "# References <a class=\"anchor\" id=\"references\"></a>\n",
    "\n",
    "- D’Amato, C.: Exploring the Soil-Plant-Atmosphere Continuum: Advancements, Integrated Modeling and Ecohydrological Insights, Ph.D. thesis, Center Agriculture Food Environment (C3A), University of Trento, 2024"
   ]
  },
  {
   "cell_type": "code",
   "execution_count": null,
   "metadata": {},
   "outputs": [],
   "source": []
  },
  {
   "cell_type": "code",
   "execution_count": null,
   "metadata": {},
   "outputs": [],
   "source": []
  }
 ],
 "metadata": {
  "kernelspec": {
   "display_name": "Python 3 (ipykernel)",
   "language": "python",
   "name": "python3"
  },
  "language_info": {
   "codemirror_mode": {
    "name": "ipython",
    "version": 3
   },
   "file_extension": ".py",
   "mimetype": "text/x-python",
   "name": "python",
   "nbconvert_exporter": "python",
   "pygments_lexer": "ipython3",
   "version": "3.7.12"
  }
 },
 "nbformat": 4,
 "nbformat_minor": 4
}
