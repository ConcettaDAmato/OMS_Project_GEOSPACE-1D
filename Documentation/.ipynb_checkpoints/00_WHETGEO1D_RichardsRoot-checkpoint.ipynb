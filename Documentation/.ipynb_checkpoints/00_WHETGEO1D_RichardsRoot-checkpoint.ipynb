{
 "cells": [
  {
   "cell_type": "markdown",
   "metadata": {
    "tags": []
   },
   "source": [
    "# WHETGEO-1D v1.2.9- Richards coupled with Evapotranspiration"
   ]
  },
  {
   "cell_type": "markdown",
   "metadata": {},
   "source": [
    "**Author:** [Niccolò Tubini](https://www.researchgate.net/profile/Niccolo_Tubini2), [Concetta D'Amato](https://www.researchgate.net/profile/Concetta-Damato) \n",
    "\n",
    "**Documentation Author:** [Concetta D'Amato](https://www.researchgate.net/profile/Concetta-Damato) , [Riccardo Rigon](https://abouthydrology.blogspot.com/2014/09/my-cv.html)\n",
    "\n",
    "**To whom address questions:** \n",
    " - [Concetta D'Amato](https://www.researchgate.net/profile/Concetta-Damato)  \n",
    " - [GEOframe Users Group](https://groups.google.com/forum/#!forum/geoframe-components-users)\n",
    " - [GEOframe Developers Mailing List](https://groups.google.com/forum/#!forum/geoframe-components-developers)\n",
    " \n",
    "**Version:** 1.2.9\n",
    "\n",
    "**Keywords:** Richards' equation, water infiltration, 1D, Java, OMS3, Evapotranspiration Coupling \n",
    "\n",
    "**License:** [GPL3 v3](https://www.gnu.org/licenses/gpl-3.0.en.html)"
   ]
  },
  {
   "cell_type": "markdown",
   "metadata": {},
   "source": [
    "# Table of Contents\n",
    "\n",
    "* [Abstract](#abstract)\n",
    "    * [Visual abstract](#visual-abstract)\n",
    "* [Descriptions for general Audience](#descriptiongeneralaudience)\n",
    "    * [Source code and Executables](#executables)\n",
    "* [Component Description](#componentdescription)\n",
    "    * [Inputs](#inputs)\n",
    "    * [Output](#outputs)\n",
    "* [Descriptions for Components Linkers](#description_for_components_linkers)\n",
    "* [GEOframe Community guidelines](#GEOframe_community_guidelines)\n",
    "* [Acknowledgements](#acknowledgements)\n",
    "* [References](#references)"
   ]
  },
  {
   "cell_type": "markdown",
   "metadata": {},
   "source": [
    "---"
   ]
  },
  {
   "cell_type": "markdown",
   "metadata": {},
   "source": [
    "# Abstract <a class=\"anchor\" id=\"abstract\"></a>"
   ]
  },
  {
   "cell_type": "markdown",
   "metadata": {
    "tags": []
   },
   "source": [
    "## Visual Abstract <a class=\"anchor\" id=\"visual-abstract\"></a>\n"
   ]
  },
  {
   "cell_type": "markdown",
   "metadata": {},
   "source": [
    "---"
   ]
  },
  {
   "cell_type": "markdown",
   "metadata": {},
   "source": [
    "# Descriptions for general Audience <a class=\"anchor\" id=\"descriptiongeneralaudience\"></a>"
   ]
  },
  {
   "cell_type": "markdown",
   "metadata": {},
   "source": [
    "## Source code and Executables <a class=\"anchor\" id=\"executables\"></a>"
   ]
  },
  {
   "cell_type": "markdown",
   "metadata": {},
   "source": [
    "---"
   ]
  },
  {
   "cell_type": "markdown",
   "metadata": {},
   "source": [
    "# Component Description <a class=\"anchor\" id=\"componentdescription\"></a>"
   ]
  },
  {
   "cell_type": "markdown",
   "metadata": {
    "tags": []
   },
   "source": [
    "## Inputs <a class=\"anchor\" id=\"inputs\"></a>"
   ]
  },
  {
   "cell_type": "markdown",
   "metadata": {},
   "source": [
    "### Detailed inputs Description <a class=\"anchor\" id=\"detailed_input_description\"></a>"
   ]
  },
  {
   "cell_type": "markdown",
   "metadata": {},
   "source": [
    "## Outputs <a class=\"anchor\" id=\"outputs\"></a>"
   ]
  },
  {
   "cell_type": "markdown",
   "metadata": {},
   "source": [
    "---"
   ]
  },
  {
   "cell_type": "markdown",
   "metadata": {},
   "source": [
    "# Descriptions for Components Linkers <a class=\"anchor\" id=\"description_for_components_linkers\"></a>\n",
    "\n",
    "<em> <b>Linkers</b> are users who use the component to provide Modelling Solution, i.e. a working setup \n",
    "of components to perform some task. The information below contains internals of the component that can be accessed only by reading the code."
   ]
  },
  {
   "cell_type": "markdown",
   "metadata": {},
   "source": [
    "## org.jgrasstools.gears.io.timedependent.OmsTimeSeriesIteratorReader <a class=\"anchor\" id=\"OmsTimeSeriesIteratorReader\"></a>\n",
    "This component reads an OMS time series.\n",
    "\n",
    "------\n",
    "\n",
    "Within the section components of the .sim file you declare the component to write the output in the NetCDF file format:\n",
    "\n",
    "```groovy\n",
    "\"reader_timeseries\" \"org.jgrasstools.gears.io.timedependent.OmsTimeSeriesIteratorReader\"\n",
    "```\n",
    "`reader_timeseries` is the name of your component, `org.jgrasstools.gears.io.timedependent.OmsTimeSeriesIteratorReader` identifies the Java class by using the package name `org.jgrasstools.gears.io.timedependent` followed by the class name.\n",
    "\n",
    "To refer to the variables of the Java class, technically called fields, you simply use the following syntax\n",
    "\n",
    "```groovy\n",
    "\"reader_timeseries.your_field\" \n",
    "```\n",
    "\n",
    "### Fields <a class=\"anchor\" id=\"OmsTimeSeriesIteratorReader_fields\"></a>\n",
    "\n",
    "Inputs:\n",
    "- file: string defining the path of the file containing time series to read. Type `String`\n",
    "\n",
    "- idfield: first string that appears in the 4th line of the input file. It is used to define the line containg the column headers. Type `String`\n",
    "\n",
    "- tStart: string defining start date of the simulation. Date format is yyyy-MM-dd hh:mm. Type `String`\n",
    "\n",
    "- tEnd: string defining end date of the simulation. Date format is yyyy-MM-dd hh:mm. Type `String`\n",
    "\n",
    "- tTimeStep: string defining the time step of the time series. Expressed in minutes. Type `String`\n",
    "\n",
    "- fileNoValue: string defining used to specify the no value in the time series. It must be -9999. Type `String`\n",
    "\n",
    "Outputs:\n",
    "- outData: values for the current date. Type `HashMap<Integer, double[]>`\n",
    "\n",
    "- doProcess: boolean value used to control the end of the simulation. Type `boolean`"
   ]
  },
  {
   "cell_type": "markdown",
   "metadata": {},
   "source": [
    "# GEOframe Community guidelines <a class=\"anchor\" id=\"GEOframe_community_guidelines\"></a>\n",
    "\n",
    "Support for users can be obtained by writing at the  \n",
    "- [GEOframe Users Group](https://groups.google.com/forum/#!forum/geoframe-components-users)\n",
    "\n",
    "Developers should write to the\n",
    "- [GEOframe Developers Mailing List](https://groups.google.com/forum/#!forum/geoframe-components-developers)\n",
    "\n",
    "Anyone is free to contribute. However, the suggestion is to start with branching our code, modyfing it and eventually call issue a pull request. \n",
    "\n",
    "## Who can be code Author ? <a class=\"anchor\" id=\"GEOframe_community_guidelines_who_can_be_the_author\"></a>\n",
    "\n",
    "Giving appropriate credits for the intellectual input through co-authorships or citations should be the proper functioning of the community.  The formal, legal conditions that govern the use of GEOframe at present are given by the G.P.L. v 3. Each GEOframe component can have its own license though. \n",
    "\n",
    "This policy is not intended to restrict what can be done with GEOframe codes, rather to ensure appropriate acknowledgement and communication between users and developers. This policy will be updated regularly.\n",
    "\n",
    "A developer is any person whose expertise has either significantly \n",
    "- influenced the design of GEOframe code or \n",
    "- who has written code, \n",
    "with no distinction between scientific and technical inputs. \n",
    "- Financial support alone is <b> not enough </b> to claim for being a code author. This should be recognized in Acknowledgments (see below)\n",
    "- For being added as co-author of an existing code, modifications have to be subtantial, not simply a bug fixing which is recognized in Acknowledgment. Essentially this status is discussed upon a pull request.\n",
    "\n",
    "When writing the source code of a component, GEOframe developers should consider the following:\n",
    "- Provide a brief description of what the program does.\n",
    "- State the authors of the code and the following modifiers.\n",
    "- Describe the input required to run the component and its output.\n",
    "- Some notes concerning the limitations, and the algorithms used within the component. A wish-list for the future version and/or information.\n",
    "- Articles or books which have inspired the codex or justified its necessity. Users are encouraged to cite these papers in their own work.\n",
    "Which is what this Notebook is about. \n",
    "\n",
    "Ideally a new committed code should conform to the rules required by [Joss](https://joss.readthedocs.io/en). \n",
    "Please, see also: [The GEOframe publication policy 1.0 document](https://geoframe.blogspot.com/2020/05/geoframe-community-publication-policy.html)"
   ]
  }
 ],
 "metadata": {
  "kernelspec": {
   "display_name": "Python 3 (ipykernel)",
   "language": "python",
   "name": "python3"
  },
  "language_info": {
   "codemirror_mode": {
    "name": "ipython",
    "version": 3
   },
   "file_extension": ".py",
   "mimetype": "text/x-python",
   "name": "python",
   "nbconvert_exporter": "python",
   "pygments_lexer": "ipython3",
   "version": "3.7.12"
  }
 },
 "nbformat": 4,
 "nbformat_minor": 4
}
